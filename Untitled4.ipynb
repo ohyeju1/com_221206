{
  "nbformat": 4,
  "nbformat_minor": 0,
  "metadata": {
    "colab": {
      "provenance": [],
      "authorship_tag": "ABX9TyOzMFJsQB0+SNubnNgChPXh",
      "include_colab_link": true
    },
    "kernelspec": {
      "name": "python3",
      "display_name": "Python 3"
    },
    "language_info": {
      "name": "python"
    }
  },
  "cells": [
    {
      "cell_type": "markdown",
      "metadata": {
        "id": "view-in-github",
        "colab_type": "text"
      },
      "source": [
        "<a href=\"https://colab.research.google.com/github/ohyeju1/com_221206/blob/main/Untitled4.ipynb\" target=\"_parent\"><img src=\"https://colab.research.google.com/assets/colab-badge.svg\" alt=\"Open In Colab\"/></a>"
      ]
    },
    {
      "cell_type": "code",
      "execution_count": 2,
      "metadata": {
        "colab": {
          "base_uri": "https://localhost:8080/"
        },
        "id": "6RRDvYUT2WU7",
        "outputId": "24d4d8f5-1680-420d-d6a3-195644e8ee76"
      },
      "outputs": [
        {
          "output_type": "stream",
          "name": "stdout",
          "text": [
            "1부터 100사이의 난수를 맞추세요.1\n",
            "틀렸습니다. 다시 입력하세요.\n",
            "난수가 입력한 숫자보다 작습니다.\n",
            "1부터 100사이의 난수를 맞추세요.3\n",
            "틀렸습니다. 다시 입력하세요.\n",
            "난수가 입력한 숫자보다 작습니다.\n",
            "1부터 100사이의 난수를 맞추세요.101\n",
            "틀렸습니다. 다시 입력하세요.\n",
            "난수가 입력한 숫자보다 작습니다.\n",
            "1부터 100사이의 난수를 맞추세요.99\n",
            "틀렸습니다. 다시 입력하세요.\n",
            "난수가 입력한 숫자보다 작습니다.\n",
            "1부터 100사이의 난수를 맞추세요.98\n",
            "틀렸습니다. 다시 입력하세요.\n",
            "난수가 입력한 숫자보다 작습니다.\n",
            "1부터 100사이의 난수를 맞추세요.97\n",
            "틀렸습니다. 다시 입력하세요.\n",
            "난수가 입력한 숫자보다 작습니다.\n",
            "1부터 100사이의 난수를 맞추세요.96\n",
            "틀렸습니다. 다시 입력하세요.\n",
            "난수가 입력한 숫자보다 작습니다.\n",
            "1부터 100사이의 난수를 맞추세요.95\n",
            "틀렸습니다. 다시 입력하세요.\n",
            "난수가 입력한 숫자보다 작습니다.\n",
            "1부터 100사이의 난수를 맞추세요.94\n",
            "틀렸습니다. 다시 입력하세요.\n",
            "난수가 입력한 숫자보다 작습니다.\n",
            "1부터 100사이의 난수를 맞추세요.93\n",
            "틀렸습니다. 다시 입력하세요.\n",
            "난수가 입력한 숫자보다 작습니다.\n",
            "게임에 졌습니다.\n",
            "난수: 44\n"
          ]
        }
      ],
      "source": [
        "import random\n",
        "randonNum=random.randrange(1,101)\n",
        "userNum=int(input('1부터 100사이의 난수를 맞추세요.'))\n",
        "macCount=10\n",
        "count=0\n",
        "while userNum!=randonNum:\n",
        "  print('틀렸습니다. 다시 입력하세요.')\n",
        "  if userNum>randonNum:\n",
        "    print('난수가 입력한 숫자보다 작습니다.')\n",
        "  else:\n",
        "    print('난수가 입력한 숫자보다 작습니다.')\n",
        "  count+=1\n",
        "  if count>=10:\n",
        "    print('게임에 졌습니다.')\n",
        "    break\n",
        "  userNum=int(input('1부터 100사이의 난수를 맞추세요.'))\n",
        "else:\n",
        "  print('정답입니다.')\n",
        "print('난수:',randonNum)"
      ]
    }
  ]
}